{
 "cells": [
  {
   "cell_type": "markdown",
   "metadata": {},
   "source": [
    "# Exploratory Data Analysis"
   ]
  },
  {
   "cell_type": "code",
   "execution_count": 3,
   "metadata": {},
   "outputs": [],
   "source": [
    "import numpy as np\n",
    "import pandas as pd\n",
    "import matplotlib.pyplot as plt\n",
    "import sys, os\n",
    "data_dir = '../noaa-runtime/data/'"
   ]
  },
  {
   "cell_type": "code",
   "execution_count": 2,
   "metadata": {},
   "outputs": [],
   "source": [
    "dst_labs = pd.read_csv(data_dir+'dst_labels.csv')\n",
    "sat_pos  = pd.read_csv(data_dir+'satellite_positions.csv')\n",
    "sol_wind = pd.read_csv(data_dir+'solar_wind.csv')\n",
    "sunspots = pd.read_csv(data_dir+'sunspots.csv')"
   ]
  },
  {
   "cell_type": "markdown",
   "metadata": {},
   "source": [
    "## Data shape, Columns and Nans"
   ]
  },
  {
   "cell_type": "code",
   "execution_count": 19,
   "metadata": {},
   "outputs": [],
   "source": [
    "def print_df_info(df):\n",
    "    print (\"data shape:\", df.shape, '\\n')\n",
    "    print (\"data columns:\", df.columns, '\\n')\n",
    "    print (\"The Null values in the data:\\n\", df.isnull().sum(), '\\n' )\n",
    "    display ( df.head(5) )"
   ]
  },
  {
   "cell_type": "code",
   "execution_count": 20,
   "metadata": {},
   "outputs": [
    {
     "name": "stdout",
     "output_type": "stream",
     "text": [
      "data shape: (139872, 3) \n",
      "\n",
      "data columns: Index(['period', 'timedelta', 'dst'], dtype='object') \n",
      "\n",
      "The Null values in the data:\n",
      " period       0\n",
      "timedelta    0\n",
      "dst          0\n",
      "dtype: int64 \n",
      "\n",
      "['train_a' 'train_b' 'train_c'] \n",
      "\n"
     ]
    },
    {
     "data": {
      "text/html": [
       "<div>\n",
       "<style scoped>\n",
       "    .dataframe tbody tr th:only-of-type {\n",
       "        vertical-align: middle;\n",
       "    }\n",
       "\n",
       "    .dataframe tbody tr th {\n",
       "        vertical-align: top;\n",
       "    }\n",
       "\n",
       "    .dataframe thead th {\n",
       "        text-align: right;\n",
       "    }\n",
       "</style>\n",
       "<table border=\"1\" class=\"dataframe\">\n",
       "  <thead>\n",
       "    <tr style=\"text-align: right;\">\n",
       "      <th></th>\n",
       "      <th>period</th>\n",
       "      <th>timedelta</th>\n",
       "      <th>dst</th>\n",
       "    </tr>\n",
       "  </thead>\n",
       "  <tbody>\n",
       "    <tr>\n",
       "      <th>0</th>\n",
       "      <td>train_a</td>\n",
       "      <td>0 days 00:00:00</td>\n",
       "      <td>-7</td>\n",
       "    </tr>\n",
       "    <tr>\n",
       "      <th>1</th>\n",
       "      <td>train_a</td>\n",
       "      <td>0 days 01:00:00</td>\n",
       "      <td>-10</td>\n",
       "    </tr>\n",
       "    <tr>\n",
       "      <th>2</th>\n",
       "      <td>train_a</td>\n",
       "      <td>0 days 02:00:00</td>\n",
       "      <td>-10</td>\n",
       "    </tr>\n",
       "    <tr>\n",
       "      <th>3</th>\n",
       "      <td>train_a</td>\n",
       "      <td>0 days 03:00:00</td>\n",
       "      <td>-6</td>\n",
       "    </tr>\n",
       "    <tr>\n",
       "      <th>4</th>\n",
       "      <td>train_a</td>\n",
       "      <td>0 days 04:00:00</td>\n",
       "      <td>-2</td>\n",
       "    </tr>\n",
       "  </tbody>\n",
       "</table>\n",
       "</div>"
      ],
      "text/plain": [
       "    period        timedelta  dst\n",
       "0  train_a  0 days 00:00:00   -7\n",
       "1  train_a  0 days 01:00:00  -10\n",
       "2  train_a  0 days 02:00:00  -10\n",
       "3  train_a  0 days 03:00:00   -6\n",
       "4  train_a  0 days 04:00:00   -2"
      ]
     },
     "metadata": {},
     "output_type": "display_data"
    }
   ],
   "source": [
    "print_df_info(dst_labs)"
   ]
  },
  {
   "cell_type": "code",
   "execution_count": 14,
   "metadata": {},
   "outputs": [
    {
     "name": "stdout",
     "output_type": "stream",
     "text": [
      "data shape: (5828, 8) \n",
      "\n",
      "data columns: Index(['period', 'timedelta', 'gse_x_ace', 'gse_y_ace', 'gse_z_ace',\n",
      "       'gse_x_dscovr', 'gse_y_dscovr', 'gse_z_dscovr'],\n",
      "      dtype='object') \n",
      "\n",
      "The Null values in the data:\n",
      " period             0\n",
      "timedelta          0\n",
      "gse_x_ace          0\n",
      "gse_y_ace          0\n",
      "gse_z_ace          0\n",
      "gse_x_dscovr    4794\n",
      "gse_y_dscovr    4794\n",
      "gse_z_dscovr    4794\n",
      "dtype: int64 \n",
      "\n"
     ]
    },
    {
     "data": {
      "text/html": [
       "<div>\n",
       "<style scoped>\n",
       "    .dataframe tbody tr th:only-of-type {\n",
       "        vertical-align: middle;\n",
       "    }\n",
       "\n",
       "    .dataframe tbody tr th {\n",
       "        vertical-align: top;\n",
       "    }\n",
       "\n",
       "    .dataframe thead th {\n",
       "        text-align: right;\n",
       "    }\n",
       "</style>\n",
       "<table border=\"1\" class=\"dataframe\">\n",
       "  <thead>\n",
       "    <tr style=\"text-align: right;\">\n",
       "      <th></th>\n",
       "      <th>period</th>\n",
       "      <th>timedelta</th>\n",
       "      <th>gse_x_ace</th>\n",
       "      <th>gse_y_ace</th>\n",
       "      <th>gse_z_ace</th>\n",
       "      <th>gse_x_dscovr</th>\n",
       "      <th>gse_y_dscovr</th>\n",
       "      <th>gse_z_dscovr</th>\n",
       "    </tr>\n",
       "  </thead>\n",
       "  <tbody>\n",
       "    <tr>\n",
       "      <th>0</th>\n",
       "      <td>train_a</td>\n",
       "      <td>0 days</td>\n",
       "      <td>1522376.9</td>\n",
       "      <td>143704.6</td>\n",
       "      <td>149496.7</td>\n",
       "      <td>NaN</td>\n",
       "      <td>NaN</td>\n",
       "      <td>NaN</td>\n",
       "    </tr>\n",
       "    <tr>\n",
       "      <th>1</th>\n",
       "      <td>train_a</td>\n",
       "      <td>1 days</td>\n",
       "      <td>1525410.9</td>\n",
       "      <td>136108.8</td>\n",
       "      <td>151034.1</td>\n",
       "      <td>NaN</td>\n",
       "      <td>NaN</td>\n",
       "      <td>NaN</td>\n",
       "    </tr>\n",
       "    <tr>\n",
       "      <th>2</th>\n",
       "      <td>train_a</td>\n",
       "      <td>2 days</td>\n",
       "      <td>1528484.9</td>\n",
       "      <td>128470.5</td>\n",
       "      <td>152387.7</td>\n",
       "      <td>NaN</td>\n",
       "      <td>NaN</td>\n",
       "      <td>NaN</td>\n",
       "    </tr>\n",
       "    <tr>\n",
       "      <th>3</th>\n",
       "      <td>train_a</td>\n",
       "      <td>3 days</td>\n",
       "      <td>1531570.3</td>\n",
       "      <td>120818.4</td>\n",
       "      <td>153561.4</td>\n",
       "      <td>NaN</td>\n",
       "      <td>NaN</td>\n",
       "      <td>NaN</td>\n",
       "    </tr>\n",
       "    <tr>\n",
       "      <th>4</th>\n",
       "      <td>train_a</td>\n",
       "      <td>4 days</td>\n",
       "      <td>1534633.1</td>\n",
       "      <td>113178.5</td>\n",
       "      <td>154534.6</td>\n",
       "      <td>NaN</td>\n",
       "      <td>NaN</td>\n",
       "      <td>NaN</td>\n",
       "    </tr>\n",
       "  </tbody>\n",
       "</table>\n",
       "</div>"
      ],
      "text/plain": [
       "    period timedelta  gse_x_ace  gse_y_ace  gse_z_ace  gse_x_dscovr  \\\n",
       "0  train_a    0 days  1522376.9   143704.6   149496.7           NaN   \n",
       "1  train_a    1 days  1525410.9   136108.8   151034.1           NaN   \n",
       "2  train_a    2 days  1528484.9   128470.5   152387.7           NaN   \n",
       "3  train_a    3 days  1531570.3   120818.4   153561.4           NaN   \n",
       "4  train_a    4 days  1534633.1   113178.5   154534.6           NaN   \n",
       "\n",
       "   gse_y_dscovr  gse_z_dscovr  \n",
       "0           NaN           NaN  \n",
       "1           NaN           NaN  \n",
       "2           NaN           NaN  \n",
       "3           NaN           NaN  \n",
       "4           NaN           NaN  "
      ]
     },
     "metadata": {},
     "output_type": "display_data"
    }
   ],
   "source": [
    "print_df_info(sat_pos)"
   ]
  },
  {
   "cell_type": "code",
   "execution_count": 16,
   "metadata": {},
   "outputs": [
    {
     "name": "stdout",
     "output_type": "stream",
     "text": [
      "data shape: (8392320, 17) \n",
      "\n",
      "data columns: Index(['period', 'timedelta', 'bx_gse', 'by_gse', 'bz_gse', 'theta_gse',\n",
      "       'phi_gse', 'bx_gsm', 'by_gsm', 'bz_gsm', 'theta_gsm', 'phi_gsm', 'bt',\n",
      "       'density', 'speed', 'temperature', 'source'],\n",
      "      dtype='object') \n",
      "\n",
      "The Null values in the data:\n",
      " period              0\n",
      "timedelta           0\n",
      "bx_gse         325888\n",
      "by_gse         325888\n",
      "bz_gse         325888\n",
      "theta_gse      325888\n",
      "phi_gse        326388\n",
      "bx_gsm         325888\n",
      "by_gsm         325888\n",
      "bz_gsm         325888\n",
      "theta_gsm      325888\n",
      "phi_gsm        326388\n",
      "bt             325888\n",
      "density        684890\n",
      "speed          689555\n",
      "temperature    811768\n",
      "source         316816\n",
      "dtype: int64 \n",
      "\n"
     ]
    },
    {
     "data": {
      "text/html": [
       "<div>\n",
       "<style scoped>\n",
       "    .dataframe tbody tr th:only-of-type {\n",
       "        vertical-align: middle;\n",
       "    }\n",
       "\n",
       "    .dataframe tbody tr th {\n",
       "        vertical-align: top;\n",
       "    }\n",
       "\n",
       "    .dataframe thead th {\n",
       "        text-align: right;\n",
       "    }\n",
       "</style>\n",
       "<table border=\"1\" class=\"dataframe\">\n",
       "  <thead>\n",
       "    <tr style=\"text-align: right;\">\n",
       "      <th></th>\n",
       "      <th>period</th>\n",
       "      <th>timedelta</th>\n",
       "      <th>bx_gse</th>\n",
       "      <th>by_gse</th>\n",
       "      <th>bz_gse</th>\n",
       "      <th>theta_gse</th>\n",
       "      <th>phi_gse</th>\n",
       "      <th>bx_gsm</th>\n",
       "      <th>by_gsm</th>\n",
       "      <th>bz_gsm</th>\n",
       "      <th>theta_gsm</th>\n",
       "      <th>phi_gsm</th>\n",
       "      <th>bt</th>\n",
       "      <th>density</th>\n",
       "      <th>speed</th>\n",
       "      <th>temperature</th>\n",
       "      <th>source</th>\n",
       "    </tr>\n",
       "  </thead>\n",
       "  <tbody>\n",
       "    <tr>\n",
       "      <th>0</th>\n",
       "      <td>train_a</td>\n",
       "      <td>0 days 00:00:00</td>\n",
       "      <td>-5.55</td>\n",
       "      <td>3.00</td>\n",
       "      <td>1.25</td>\n",
       "      <td>11.09</td>\n",
       "      <td>153.37</td>\n",
       "      <td>-5.55</td>\n",
       "      <td>3.00</td>\n",
       "      <td>1.25</td>\n",
       "      <td>11.09</td>\n",
       "      <td>153.37</td>\n",
       "      <td>6.80</td>\n",
       "      <td>1.53</td>\n",
       "      <td>383.92</td>\n",
       "      <td>110237.0</td>\n",
       "      <td>ac</td>\n",
       "    </tr>\n",
       "    <tr>\n",
       "      <th>1</th>\n",
       "      <td>train_a</td>\n",
       "      <td>0 days 00:01:00</td>\n",
       "      <td>-5.58</td>\n",
       "      <td>3.16</td>\n",
       "      <td>1.17</td>\n",
       "      <td>10.10</td>\n",
       "      <td>151.91</td>\n",
       "      <td>-5.58</td>\n",
       "      <td>3.16</td>\n",
       "      <td>1.17</td>\n",
       "      <td>10.10</td>\n",
       "      <td>151.91</td>\n",
       "      <td>6.83</td>\n",
       "      <td>1.69</td>\n",
       "      <td>381.79</td>\n",
       "      <td>123825.0</td>\n",
       "      <td>ac</td>\n",
       "    </tr>\n",
       "    <tr>\n",
       "      <th>2</th>\n",
       "      <td>train_a</td>\n",
       "      <td>0 days 00:02:00</td>\n",
       "      <td>-5.15</td>\n",
       "      <td>3.66</td>\n",
       "      <td>0.85</td>\n",
       "      <td>7.87</td>\n",
       "      <td>146.04</td>\n",
       "      <td>-5.15</td>\n",
       "      <td>3.66</td>\n",
       "      <td>0.85</td>\n",
       "      <td>7.87</td>\n",
       "      <td>146.04</td>\n",
       "      <td>6.77</td>\n",
       "      <td>1.97</td>\n",
       "      <td>389.11</td>\n",
       "      <td>82548.0</td>\n",
       "      <td>ac</td>\n",
       "    </tr>\n",
       "    <tr>\n",
       "      <th>3</th>\n",
       "      <td>train_a</td>\n",
       "      <td>0 days 00:03:00</td>\n",
       "      <td>-5.20</td>\n",
       "      <td>3.68</td>\n",
       "      <td>0.68</td>\n",
       "      <td>6.17</td>\n",
       "      <td>146.17</td>\n",
       "      <td>-5.20</td>\n",
       "      <td>3.68</td>\n",
       "      <td>0.68</td>\n",
       "      <td>6.17</td>\n",
       "      <td>146.17</td>\n",
       "      <td>6.74</td>\n",
       "      <td>1.97</td>\n",
       "      <td>389.11</td>\n",
       "      <td>82548.0</td>\n",
       "      <td>ac</td>\n",
       "    </tr>\n",
       "    <tr>\n",
       "      <th>4</th>\n",
       "      <td>train_a</td>\n",
       "      <td>0 days 00:04:00</td>\n",
       "      <td>-5.12</td>\n",
       "      <td>3.68</td>\n",
       "      <td>0.49</td>\n",
       "      <td>4.62</td>\n",
       "      <td>145.72</td>\n",
       "      <td>-5.12</td>\n",
       "      <td>3.68</td>\n",
       "      <td>0.49</td>\n",
       "      <td>4.62</td>\n",
       "      <td>145.72</td>\n",
       "      <td>6.65</td>\n",
       "      <td>1.77</td>\n",
       "      <td>384.26</td>\n",
       "      <td>94269.0</td>\n",
       "      <td>ac</td>\n",
       "    </tr>\n",
       "  </tbody>\n",
       "</table>\n",
       "</div>"
      ],
      "text/plain": [
       "    period        timedelta  bx_gse  by_gse  bz_gse  theta_gse  phi_gse  \\\n",
       "0  train_a  0 days 00:00:00   -5.55    3.00    1.25      11.09   153.37   \n",
       "1  train_a  0 days 00:01:00   -5.58    3.16    1.17      10.10   151.91   \n",
       "2  train_a  0 days 00:02:00   -5.15    3.66    0.85       7.87   146.04   \n",
       "3  train_a  0 days 00:03:00   -5.20    3.68    0.68       6.17   146.17   \n",
       "4  train_a  0 days 00:04:00   -5.12    3.68    0.49       4.62   145.72   \n",
       "\n",
       "   bx_gsm  by_gsm  bz_gsm  theta_gsm  phi_gsm    bt  density   speed  \\\n",
       "0   -5.55    3.00    1.25      11.09   153.37  6.80     1.53  383.92   \n",
       "1   -5.58    3.16    1.17      10.10   151.91  6.83     1.69  381.79   \n",
       "2   -5.15    3.66    0.85       7.87   146.04  6.77     1.97  389.11   \n",
       "3   -5.20    3.68    0.68       6.17   146.17  6.74     1.97  389.11   \n",
       "4   -5.12    3.68    0.49       4.62   145.72  6.65     1.77  384.26   \n",
       "\n",
       "   temperature source  \n",
       "0     110237.0     ac  \n",
       "1     123825.0     ac  \n",
       "2      82548.0     ac  \n",
       "3      82548.0     ac  \n",
       "4      94269.0     ac  "
      ]
     },
     "metadata": {},
     "output_type": "display_data"
    }
   ],
   "source": [
    "print_df_info(sol_wind)"
   ]
  },
  {
   "cell_type": "code",
   "execution_count": 15,
   "metadata": {
    "scrolled": true
   },
   "outputs": [
    {
     "name": "stdout",
     "output_type": "stream",
     "text": [
      "data shape: (192, 3) \n",
      "\n",
      "data columns: Index(['period', 'timedelta', 'smoothed_ssn'], dtype='object') \n",
      "\n",
      "The Null values in the data:\n",
      " period          0\n",
      "timedelta       0\n",
      "smoothed_ssn    0\n",
      "dtype: int64 \n",
      "\n"
     ]
    },
    {
     "data": {
      "text/html": [
       "<div>\n",
       "<style scoped>\n",
       "    .dataframe tbody tr th:only-of-type {\n",
       "        vertical-align: middle;\n",
       "    }\n",
       "\n",
       "    .dataframe tbody tr th {\n",
       "        vertical-align: top;\n",
       "    }\n",
       "\n",
       "    .dataframe thead th {\n",
       "        text-align: right;\n",
       "    }\n",
       "</style>\n",
       "<table border=\"1\" class=\"dataframe\">\n",
       "  <thead>\n",
       "    <tr style=\"text-align: right;\">\n",
       "      <th></th>\n",
       "      <th>period</th>\n",
       "      <th>timedelta</th>\n",
       "      <th>smoothed_ssn</th>\n",
       "    </tr>\n",
       "  </thead>\n",
       "  <tbody>\n",
       "    <tr>\n",
       "      <th>0</th>\n",
       "      <td>train_a</td>\n",
       "      <td>0 days 00:00:00</td>\n",
       "      <td>65.4</td>\n",
       "    </tr>\n",
       "    <tr>\n",
       "      <th>1</th>\n",
       "      <td>train_a</td>\n",
       "      <td>13 days 00:00:00</td>\n",
       "      <td>72.0</td>\n",
       "    </tr>\n",
       "    <tr>\n",
       "      <th>2</th>\n",
       "      <td>train_a</td>\n",
       "      <td>44 days 00:00:00</td>\n",
       "      <td>76.9</td>\n",
       "    </tr>\n",
       "    <tr>\n",
       "      <th>3</th>\n",
       "      <td>train_a</td>\n",
       "      <td>74 days 00:00:00</td>\n",
       "      <td>80.8</td>\n",
       "    </tr>\n",
       "    <tr>\n",
       "      <th>4</th>\n",
       "      <td>train_a</td>\n",
       "      <td>105 days 00:00:00</td>\n",
       "      <td>85.4</td>\n",
       "    </tr>\n",
       "  </tbody>\n",
       "</table>\n",
       "</div>"
      ],
      "text/plain": [
       "    period          timedelta  smoothed_ssn\n",
       "0  train_a    0 days 00:00:00          65.4\n",
       "1  train_a   13 days 00:00:00          72.0\n",
       "2  train_a   44 days 00:00:00          76.9\n",
       "3  train_a   74 days 00:00:00          80.8\n",
       "4  train_a  105 days 00:00:00          85.4"
      ]
     },
     "metadata": {},
     "output_type": "display_data"
    }
   ],
   "source": [
    "print_df_info(sunspots)"
   ]
  },
  {
   "cell_type": "markdown",
   "metadata": {},
   "source": [
    "### Information so far\n",
    "- `dst_labs` file has no Null values. \n",
    "- `sat_pos` file has some Null values in `gse_x_dscovr`, `gse_y_dscovr` and `gse_z_dscovr`.\n",
    "- `sol_wind` file has a lot of Null values.\n",
    "- `sunspots` file has no Null values. \n",
    "\n",
    "also `sol_wind` is the main file which has 8392320 rows, too big to make plots and so on so for the data vizualization purpose we'll use only the first 10000 rows.\n",
    "\n",
    "With the discussion in the group we also decided to discard the columns `'bx_gsm','by_gsm', 'bz_gsm', 'theta_gsm', 'phi_gsm', 'source'` from the `sol_wind` data. As `bx_gse` and `bx_gsm` and similarly for `y` and `z` they look the same. And we are ignoring the theta dn phi coordinate of measurement."
   ]
  },
  {
   "cell_type": "markdown",
   "metadata": {},
   "source": [
    "## Some Plots"
   ]
  },
  {
   "cell_type": "code",
   "execution_count": 21,
   "metadata": {},
   "outputs": [],
   "source": [
    "sw = sol_wind[:10000]"
   ]
  },
  {
   "cell_type": "code",
   "execution_count": 22,
   "metadata": {},
   "outputs": [
    {
     "data": {
      "text/html": [
       "<div>\n",
       "<style scoped>\n",
       "    .dataframe tbody tr th:only-of-type {\n",
       "        vertical-align: middle;\n",
       "    }\n",
       "\n",
       "    .dataframe tbody tr th {\n",
       "        vertical-align: top;\n",
       "    }\n",
       "\n",
       "    .dataframe thead th {\n",
       "        text-align: right;\n",
       "    }\n",
       "</style>\n",
       "<table border=\"1\" class=\"dataframe\">\n",
       "  <thead>\n",
       "    <tr style=\"text-align: right;\">\n",
       "      <th></th>\n",
       "      <th>period</th>\n",
       "      <th>timedelta</th>\n",
       "      <th>bx_gse</th>\n",
       "      <th>by_gse</th>\n",
       "      <th>bz_gse</th>\n",
       "      <th>theta_gse</th>\n",
       "      <th>phi_gse</th>\n",
       "      <th>bx_gsm</th>\n",
       "      <th>by_gsm</th>\n",
       "      <th>bz_gsm</th>\n",
       "      <th>theta_gsm</th>\n",
       "      <th>phi_gsm</th>\n",
       "      <th>bt</th>\n",
       "      <th>density</th>\n",
       "      <th>speed</th>\n",
       "      <th>temperature</th>\n",
       "      <th>source</th>\n",
       "    </tr>\n",
       "  </thead>\n",
       "  <tbody>\n",
       "    <tr>\n",
       "      <th>0</th>\n",
       "      <td>train_a</td>\n",
       "      <td>0 days 00:00:00</td>\n",
       "      <td>-5.55</td>\n",
       "      <td>3.00</td>\n",
       "      <td>1.25</td>\n",
       "      <td>11.09</td>\n",
       "      <td>153.37</td>\n",
       "      <td>-5.55</td>\n",
       "      <td>3.00</td>\n",
       "      <td>1.25</td>\n",
       "      <td>11.09</td>\n",
       "      <td>153.37</td>\n",
       "      <td>6.80</td>\n",
       "      <td>1.53</td>\n",
       "      <td>383.92</td>\n",
       "      <td>110237.0</td>\n",
       "      <td>ac</td>\n",
       "    </tr>\n",
       "    <tr>\n",
       "      <th>1</th>\n",
       "      <td>train_a</td>\n",
       "      <td>0 days 00:01:00</td>\n",
       "      <td>-5.58</td>\n",
       "      <td>3.16</td>\n",
       "      <td>1.17</td>\n",
       "      <td>10.10</td>\n",
       "      <td>151.91</td>\n",
       "      <td>-5.58</td>\n",
       "      <td>3.16</td>\n",
       "      <td>1.17</td>\n",
       "      <td>10.10</td>\n",
       "      <td>151.91</td>\n",
       "      <td>6.83</td>\n",
       "      <td>1.69</td>\n",
       "      <td>381.79</td>\n",
       "      <td>123825.0</td>\n",
       "      <td>ac</td>\n",
       "    </tr>\n",
       "  </tbody>\n",
       "</table>\n",
       "</div>"
      ],
      "text/plain": [
       "    period        timedelta  bx_gse  by_gse  bz_gse  theta_gse  phi_gse  \\\n",
       "0  train_a  0 days 00:00:00   -5.55    3.00    1.25      11.09   153.37   \n",
       "1  train_a  0 days 00:01:00   -5.58    3.16    1.17      10.10   151.91   \n",
       "\n",
       "   bx_gsm  by_gsm  bz_gsm  theta_gsm  phi_gsm    bt  density   speed  \\\n",
       "0   -5.55    3.00    1.25      11.09   153.37  6.80     1.53  383.92   \n",
       "1   -5.58    3.16    1.17      10.10   151.91  6.83     1.69  381.79   \n",
       "\n",
       "   temperature source  \n",
       "0     110237.0     ac  \n",
       "1     123825.0     ac  "
      ]
     },
     "execution_count": 22,
     "metadata": {},
     "output_type": "execute_result"
    }
   ],
   "source": [
    "sw.head(2)"
   ]
  },
  {
   "cell_type": "code",
   "execution_count": 23,
   "metadata": {},
   "outputs": [
    {
     "data": {
      "image/png": "[encoded data removed]",
      "text/plain": [
       "<Figure size 432x288 with 1 Axes>"
      ]
     },
     "metadata": {
      "needs_background": "light"
     },
     "output_type": "display_data"
    }
   ],
   "source": [
    "#data.head()\n",
    "#\n",
    "plt.plot(sw.timedelta, sw.bx_gse )\n",
    "plt.show()"
   ]
  },
  {
   "cell_type": "code",
   "execution_count": 24,
   "metadata": {},
   "outputs": [
    {
     "data": {
      "text/plain": [
       "<matplotlib.collections.PathCollection at 0x11f939430>"
      ]
     },
     "execution_count": 24,
     "metadata": {},
     "output_type": "execute_result"
    },
    {
     "data": {
      "image/png": "[encoded data removed]",
      "text/plain": [
       "<Figure size 1440x720 with 6 Axes>"
      ]
     },
     "metadata": {
      "needs_background": "light"
     },
     "output_type": "display_data"
    }
   ],
   "source": [
    "plt.figure(1, figsize=(20,10))\n",
    "plt.subplot(231)\n",
    "plt.scatter(sw['bx_gse'], sw['theta_gse'])\n",
    "plt.subplot(232)\n",
    "plt.scatter(sw['by_gse'], sw['theta_gse'])\n",
    "plt.subplot(233)\n",
    "plt.scatter(sw['bz_gse'], sw['theta_gse'])\n",
    "\n",
    "plt.subplot(234)\n",
    "plt.scatter(sw['bx_gse'], sw['phi_gse'])\n",
    "plt.subplot(235)\n",
    "plt.scatter(sw['by_gse'], sw['phi_gse'])\n",
    "plt.subplot(236)\n",
    "plt.scatter(sw['bz_gse'], sw['phi_gse'])"
   ]
  },
  {
   "cell_type": "code",
   "execution_count": null,
   "metadata": {},
   "outputs": [],
   "source": []
  },
  {
   "cell_type": "code",
   "execution_count": null,
   "metadata": {},
   "outputs": [],
   "source": []
  },
  {
   "cell_type": "code",
   "execution_count": null,
   "metadata": {},
   "outputs": [],
   "source": [
    "\n",
    "data = sol_wind[:10000]\n",
    "# convert the timedelta to datetime object\n",
    "data['timedelta'] = pd.to_timedelta( data['timedelta'] )\n",
    "display ( data.head(2) )"
   ]
  },
  {
   "cell_type": "code",
   "execution_count": null,
   "metadata": {},
   "outputs": [],
   "source": []
  },
  {
   "cell_type": "code",
   "execution_count": null,
   "metadata": {},
   "outputs": [],
   "source": [
    "dst_labs.head(2)"
   ]
  },
  {
   "cell_type": "code",
   "execution_count": null,
   "metadata": {},
   "outputs": [],
   "source": [
    "sat_pos.head(2)"
   ]
  },
  {
   "cell_type": "code",
   "execution_count": null,
   "metadata": {},
   "outputs": [],
   "source": [
    "sol_wind.head(2)"
   ]
  },
  {
   "cell_type": "code",
   "execution_count": null,
   "metadata": {},
   "outputs": [],
   "source": [
    "sol_wind.timedelta"
   ]
  },
  {
   "cell_type": "code",
   "execution_count": null,
   "metadata": {},
   "outputs": [],
   "source": [
    "sunspots.head(2)"
   ]
  },
  {
   "cell_type": "code",
   "execution_count": null,
   "metadata": {},
   "outputs": [],
   "source": [
    "print ( sol_wind.shape )\n",
    "data = sol_wind[:5000]\n",
    "print (data.shape )"
   ]
  },
  {
   "cell_type": "code",
   "execution_count": null,
   "metadata": {},
   "outputs": [],
   "source": [
    "#data.head()\n",
    "#\n",
    "plt.plot(data.timedelta, data.bx_gse )\n",
    "plt.show()"
   ]
  },
  {
   "cell_type": "code",
   "execution_count": null,
   "metadata": {},
   "outputs": [],
   "source": [
    "data1 = data['bx_gse']**2+data['by_gse']**2+data['bz_gse']**2\n",
    "plt.scatter(data['bt'], data1)"
   ]
  },
  {
   "cell_type": "code",
   "execution_count": null,
   "metadata": {},
   "outputs": [],
   "source": [
    "plt.figure(1, figsize=(20,4))\n",
    "plt.subplot(121)\n",
    "plt.scatter(data['bt'], data['theta_gse'])\n",
    "plt.subplot(122)\n",
    "plt.scatter(data['bt'], data['phi_gse'])\n",
    "\n"
   ]
  },
  {
   "cell_type": "code",
   "execution_count": null,
   "metadata": {},
   "outputs": [],
   "source": [
    "plt.figure(1, figsize=(20,10))\n",
    "plt.subplot(231)\n",
    "plt.scatter(data['bx_gse'], data['theta_gse'])\n",
    "plt.subplot(232)\n",
    "plt.scatter(data['by_gse'], data['theta_gse'])\n",
    "plt.subplot(233)\n",
    "plt.scatter(data['bz_gse'], data['theta_gse'])\n",
    "\n",
    "plt.subplot(234)\n",
    "plt.scatter(data['bx_gse'], data['phi_gse'])\n",
    "plt.subplot(235)\n",
    "plt.scatter(data['by_gse'], data['phi_gse'])\n",
    "plt.subplot(236)\n",
    "plt.scatter(data['bz_gse'], data['phi_gse'])"
   ]
  },
  {
   "cell_type": "code",
   "execution_count": null,
   "metadata": {},
   "outputs": [],
   "source": []
  }
 ],
 "metadata": {
  "kernelspec": {
   "display_name": "Python 3",
   "language": "python",
   "name": "python3"
  },
  "language_info": {
   "codemirror_mode": {
    "name": "ipython",
    "version": 3
   },
   "file_extension": ".py",
   "mimetype": "text/x-python",
   "name": "python",
   "nbconvert_exporter": "python",
   "pygments_lexer": "ipython3",
   "version": "3.8.5"
  }
 },
 "nbformat": 4,
 "nbformat_minor": 4
}
